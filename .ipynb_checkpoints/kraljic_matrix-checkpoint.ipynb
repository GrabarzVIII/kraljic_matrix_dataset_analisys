{
 "cells": [
  {
   "cell_type": "markdown",
   "id": "c6efb5b5-529d-4b75-b454-a579fc805470",
   "metadata": {},
   "source": [
    "# Kraljic Matrix analisys"
   ]
  },
  {
   "cell_type": "code",
   "execution_count": 2,
   "id": "9f169825-5a3f-47c0-8356-a0dcb15a3eda",
   "metadata": {},
   "outputs": [],
   "source": [
    "import pandas as pd \n",
    "import numpy as np\n",
    "import matplotlib.pyplot as plt\n",
    "import seaborn as sns\n",
    "import kagglehub"
   ]
  },
  {
   "cell_type": "markdown",
   "id": "b52cf4ed-3d90-4549-b2db-f6983199482c",
   "metadata": {},
   "source": [
    "### Importing well known libraries\n",
    "#### Now I probably download datasets and I will look at it"
   ]
  },
  {
   "cell_type": "code",
   "execution_count": 4,
   "id": "f8f96ded-c93a-4120-bbfa-da5b53825ae6",
   "metadata": {},
   "outputs": [
    {
     "name": "stdout",
     "output_type": "stream",
     "text": [
      "Warning: Looks like you're using an outdated `kagglehub` version (installed: 0.3.11), please consider upgrading to the latest version (0.3.12).\n"
     ]
    },
    {
     "data": {
      "text/html": [
       "<div>\n",
       "<style scoped>\n",
       "    .dataframe tbody tr th:only-of-type {\n",
       "        vertical-align: middle;\n",
       "    }\n",
       "\n",
       "    .dataframe tbody tr th {\n",
       "        vertical-align: top;\n",
       "    }\n",
       "\n",
       "    .dataframe thead th {\n",
       "        text-align: right;\n",
       "    }\n",
       "</style>\n",
       "<table border=\"1\" class=\"dataframe\">\n",
       "  <thead>\n",
       "    <tr style=\"text-align: right;\">\n",
       "      <th></th>\n",
       "      <th>Product_ID</th>\n",
       "      <th>Product_Name</th>\n",
       "      <th>Supplier_Region</th>\n",
       "      <th>Lead_Time_Days</th>\n",
       "      <th>Order_Volume_Units</th>\n",
       "      <th>Cost_per_Unit</th>\n",
       "      <th>Supply_Risk_Score</th>\n",
       "      <th>Profit_Impact_Score</th>\n",
       "      <th>Environmental_Impact</th>\n",
       "      <th>Single_Source_Risk</th>\n",
       "      <th>Kraljic_Category</th>\n",
       "    </tr>\n",
       "  </thead>\n",
       "  <tbody>\n",
       "    <tr>\n",
       "      <th>0</th>\n",
       "      <td>P001</td>\n",
       "      <td>Semiconductors</td>\n",
       "      <td>South America</td>\n",
       "      <td>81</td>\n",
       "      <td>171</td>\n",
       "      <td>255.03</td>\n",
       "      <td>5</td>\n",
       "      <td>5</td>\n",
       "      <td>4</td>\n",
       "      <td>Yes</td>\n",
       "      <td>Strategic</td>\n",
       "    </tr>\n",
       "    <tr>\n",
       "      <th>1</th>\n",
       "      <td>P002</td>\n",
       "      <td>Semiconductors</td>\n",
       "      <td>South America</td>\n",
       "      <td>8</td>\n",
       "      <td>763</td>\n",
       "      <td>380.33</td>\n",
       "      <td>5</td>\n",
       "      <td>4</td>\n",
       "      <td>4</td>\n",
       "      <td>Yes</td>\n",
       "      <td>Strategic</td>\n",
       "    </tr>\n",
       "    <tr>\n",
       "      <th>2</th>\n",
       "      <td>P003</td>\n",
       "      <td>Pharma APIs</td>\n",
       "      <td>Asia</td>\n",
       "      <td>65</td>\n",
       "      <td>413</td>\n",
       "      <td>385.24</td>\n",
       "      <td>4</td>\n",
       "      <td>5</td>\n",
       "      <td>5</td>\n",
       "      <td>Yes</td>\n",
       "      <td>Strategic</td>\n",
       "    </tr>\n",
       "    <tr>\n",
       "      <th>3</th>\n",
       "      <td>P004</td>\n",
       "      <td>Semiconductors</td>\n",
       "      <td>South America</td>\n",
       "      <td>70</td>\n",
       "      <td>882</td>\n",
       "      <td>287.64</td>\n",
       "      <td>5</td>\n",
       "      <td>5</td>\n",
       "      <td>5</td>\n",
       "      <td>Yes</td>\n",
       "      <td>Strategic</td>\n",
       "    </tr>\n",
       "    <tr>\n",
       "      <th>4</th>\n",
       "      <td>P005</td>\n",
       "      <td>Lithium Batteries</td>\n",
       "      <td>Asia</td>\n",
       "      <td>15</td>\n",
       "      <td>120</td>\n",
       "      <td>382.26</td>\n",
       "      <td>4</td>\n",
       "      <td>4</td>\n",
       "      <td>4</td>\n",
       "      <td>Yes</td>\n",
       "      <td>Strategic</td>\n",
       "    </tr>\n",
       "  </tbody>\n",
       "</table>\n",
       "</div>"
      ],
      "text/plain": [
       "  Product_ID       Product_Name Supplier_Region  Lead_Time_Days  \\\n",
       "0       P001     Semiconductors   South America              81   \n",
       "1       P002     Semiconductors   South America               8   \n",
       "2       P003        Pharma APIs            Asia              65   \n",
       "3       P004     Semiconductors   South America              70   \n",
       "4       P005  Lithium Batteries            Asia              15   \n",
       "\n",
       "   Order_Volume_Units  Cost_per_Unit  Supply_Risk_Score  Profit_Impact_Score  \\\n",
       "0                 171         255.03                  5                    5   \n",
       "1                 763         380.33                  5                    4   \n",
       "2                 413         385.24                  4                    5   \n",
       "3                 882         287.64                  5                    5   \n",
       "4                 120         382.26                  4                    4   \n",
       "\n",
       "   Environmental_Impact Single_Source_Risk Kraljic_Category  \n",
       "0                     4                Yes        Strategic  \n",
       "1                     4                Yes        Strategic  \n",
       "2                     5                Yes        Strategic  \n",
       "3                     5                Yes        Strategic  \n",
       "4                     4                Yes        Strategic  "
      ]
     },
     "execution_count": 4,
     "metadata": {},
     "output_type": "execute_result"
    }
   ],
   "source": [
    "path = kagglehub.dataset_download(\"shahriarkabir/procurement-strategy-dataset-for-kraljic-matrix\")\n",
    "path = path + r'/realistic_kraljic_dataset.csv' \n",
    "matrix_df = pd.read_csv(path)\n",
    "matrix_df.head()"
   ]
  },
  {
   "cell_type": "code",
   "execution_count": 5,
   "id": "80f3f7d3-5346-4f75-8487-543404e5c47f",
   "metadata": {},
   "outputs": [
    {
     "name": "stdout",
     "output_type": "stream",
     "text": [
      "<class 'pandas.core.frame.DataFrame'>\n",
      "RangeIndex: 1000 entries, 0 to 999\n",
      "Data columns (total 11 columns):\n",
      " #   Column                Non-Null Count  Dtype  \n",
      "---  ------                --------------  -----  \n",
      " 0   Product_ID            1000 non-null   object \n",
      " 1   Product_Name          1000 non-null   object \n",
      " 2   Supplier_Region       1000 non-null   object \n",
      " 3   Lead_Time_Days        1000 non-null   int64  \n",
      " 4   Order_Volume_Units    1000 non-null   int64  \n",
      " 5   Cost_per_Unit         1000 non-null   float64\n",
      " 6   Supply_Risk_Score     1000 non-null   int64  \n",
      " 7   Profit_Impact_Score   1000 non-null   int64  \n",
      " 8   Environmental_Impact  1000 non-null   int64  \n",
      " 9   Single_Source_Risk    1000 non-null   object \n",
      " 10  Kraljic_Category      1000 non-null   object \n",
      "dtypes: float64(1), int64(5), object(5)\n",
      "memory usage: 86.1+ KB\n"
     ]
    }
   ],
   "source": [
    "matrix_df.info()"
   ]
  },
  {
   "cell_type": "code",
   "execution_count": 6,
   "id": "f6d25194-fb4b-4cae-aaa2-884252ee3816",
   "metadata": {},
   "outputs": [
    {
     "data": {
      "text/plain": [
       "False"
      ]
     },
     "execution_count": 6,
     "metadata": {},
     "output_type": "execute_result"
    }
   ],
   "source": [
    "matrix_df.isnull().values.any()"
   ]
  },
  {
   "cell_type": "markdown",
   "id": "c4b32ca8-178f-4dc1-9fa2-bc46fd0c91a3",
   "metadata": {},
   "source": [
    "### So data looks good, no NaN value or any strange dtype in columns\n",
    "\n",
    "### Ok I think that good idea is showing Kraljic Matrix"
   ]
  },
  {
   "cell_type": "code",
   "execution_count": 8,
   "id": "2e8cfe4e-eff5-4a7a-9054-a25d502c208a",
   "metadata": {},
   "outputs": [
    {
     "data": {
      "text/plain": [
       "Kraljic_Category\n",
       "Strategic       250\n",
       "Bottleneck      250\n",
       "Leverage        250\n",
       "Non-Critical    250\n",
       "Name: count, dtype: int64"
      ]
     },
     "execution_count": 8,
     "metadata": {},
     "output_type": "execute_result"
    }
   ],
   "source": [
    "matrix_df['Kraljic_Category'].value_counts()"
   ]
  },
  {
   "cell_type": "code",
   "execution_count": 9,
   "id": "4455c7fb-7b0c-4461-9f6b-65c12cc74edd",
   "metadata": {},
   "outputs": [
    {
     "data": {
      "image/png": "[encoded data removed]",
      "text/plain": [
       "<Figure size 600x600 with 3 Axes>"
      ]
     },
     "metadata": {},
     "output_type": "display_data"
    }
   ],
   "source": [
    "sns.set_style(\"whitegrid\")\n",
    "\n",
    "\n",
    "ax = sns.jointplot(\n",
    "                    data = matrix_df\n",
    "                    ,y='Profit_Impact_Score'\n",
    "                    ,x='Supply_Risk_Score'\n",
    "                    ,hue='Kraljic_Category'\n",
    "                    ,kind=\"hist\"\n",
    "                    ,palette='Set2'\n",
    "                    )\n",
    "\n",
    "sns.move_legend(ax.ax_joint, loc = 'lower center', bbox_to_anchor=(1.4, 0.1))\n",
    "\n",
    "plt.title('Kraljic Matrix',y=1.2,fontsize = 16)\n",
    "plt.ylabel('Profit Impact Score')\n",
    "plt.xlabel('Supply Risk Score')\n",
    "\n",
    "plt.axhline(3,color='black',linestyle='--')\n",
    "plt.axvline(3,color='black',linestyle='--')\n",
    "\n",
    "plt.show()"
   ]
  },
  {
   "cell_type": "markdown",
   "id": "04a2843c-f663-455e-a309-0f9a6a2c128b",
   "metadata": {},
   "source": [
    "### Let's see which region is the moste dangerous for supply chain"
   ]
  },
  {
   "cell_type": "code",
   "execution_count": 61,
   "id": "8ec7e56e-7db3-4c3d-9804-bca60eecc0ed",
   "metadata": {},
   "outputs": [
    {
     "data": {
      "text/plain": [
       "Supplier_Region\n",
       "Asia             269\n",
       "Global           250\n",
       "Europe           226\n",
       "North America     96\n",
       "Africa            83\n",
       "South America     76\n",
       "Name: count, dtype: int64"
      ]
     },
     "execution_count": 61,
     "metadata": {},
     "output_type": "execute_result"
    }
   ],
   "source": [
    "matrix_df['Supplier_Region'].value_counts()"
   ]
  },
  {
   "cell_type": "code",
   "execution_count": 63,
   "id": "3b5d357e-8771-42c3-aa60-3c5a1bb7dec7",
   "metadata": {},
   "outputs": [
    {
     "data": {
      "text/html": [
       "<div>\n",
       "<style scoped>\n",
       "    .dataframe tbody tr th:only-of-type {\n",
       "        vertical-align: middle;\n",
       "    }\n",
       "\n",
       "    .dataframe tbody tr th {\n",
       "        vertical-align: top;\n",
       "    }\n",
       "\n",
       "    .dataframe thead th {\n",
       "        text-align: right;\n",
       "    }\n",
       "</style>\n",
       "<table border=\"1\" class=\"dataframe\">\n",
       "  <thead>\n",
       "    <tr style=\"text-align: right;\">\n",
       "      <th></th>\n",
       "      <th>Supplier_Region</th>\n",
       "      <th>Supply_Risk_Score</th>\n",
       "    </tr>\n",
       "  </thead>\n",
       "  <tbody>\n",
       "    <tr>\n",
       "      <th>0</th>\n",
       "      <td>South America</td>\n",
       "      <td>5</td>\n",
       "    </tr>\n",
       "    <tr>\n",
       "      <th>1</th>\n",
       "      <td>South America</td>\n",
       "      <td>5</td>\n",
       "    </tr>\n",
       "    <tr>\n",
       "      <th>2</th>\n",
       "      <td>Asia</td>\n",
       "      <td>4</td>\n",
       "    </tr>\n",
       "    <tr>\n",
       "      <th>3</th>\n",
       "      <td>South America</td>\n",
       "      <td>5</td>\n",
       "    </tr>\n",
       "    <tr>\n",
       "      <th>4</th>\n",
       "      <td>Asia</td>\n",
       "      <td>4</td>\n",
       "    </tr>\n",
       "  </tbody>\n",
       "</table>\n",
       "</div>"
      ],
      "text/plain": [
       "  Supplier_Region  Supply_Risk_Score\n",
       "0   South America                  5\n",
       "1   South America                  5\n",
       "2            Asia                  4\n",
       "3   South America                  5\n",
       "4            Asia                  4"
      ]
     },
     "execution_count": 63,
     "metadata": {},
     "output_type": "execute_result"
    }
   ],
   "source": [
    "supply_region_df = matrix_df[['Supplier_Region','Supply_Risk_Score']] \n",
    "supply_region_df.head()"
   ]
  },
  {
   "cell_type": "code",
   "execution_count": 65,
   "id": "45f471bb-5b79-44d8-a8fa-b03718f96f88",
   "metadata": {},
   "outputs": [
    {
     "data": {
      "text/plain": [
       "Supplier_Region  Supply_Risk_Score\n",
       "Africa           3                    11\n",
       "                 4                    30\n",
       "                 5                    42\n",
       "Asia             1                    30\n",
       "                 2                    35\n",
       "Name: Supply_Risk_Score_Number, dtype: int64"
      ]
     },
     "execution_count": 65,
     "metadata": {},
     "output_type": "execute_result"
    }
   ],
   "source": [
    "supply_region_df_gb = supply_region_df.groupby(by=['Supplier_Region','Supply_Risk_Score'])['Supply_Risk_Score'].count()\n",
    "supply_region_df_gb.name = 'Supply_Risk_Score_Number'\n",
    "supply_region_df_gb.head()"
   ]
  },
  {
   "cell_type": "code",
   "execution_count": 67,
   "id": "50eab5ca-067a-4123-8a65-ba7ab790c147",
   "metadata": {},
   "outputs": [
    {
     "data": {
      "text/plain": [
       "MultiIndex([(       'Africa', 3),\n",
       "            (       'Africa', 4),\n",
       "            (       'Africa', 5),\n",
       "            (         'Asia', 1),\n",
       "            (         'Asia', 2),\n",
       "            (         'Asia', 3),\n",
       "            (         'Asia', 4),\n",
       "            (         'Asia', 5),\n",
       "            (       'Europe', 1),\n",
       "            (       'Europe', 2),\n",
       "            (       'Europe', 3),\n",
       "            (       'Europe', 4),\n",
       "            (       'Europe', 5),\n",
       "            (       'Global', 1),\n",
       "            (       'Global', 2),\n",
       "            (       'Global', 3),\n",
       "            ('North America', 1),\n",
       "            ('North America', 2),\n",
       "            ('North America', 3),\n",
       "            ('South America', 3),\n",
       "            ('South America', 4),\n",
       "            ('South America', 5)],\n",
       "           names=['Supplier_Region', 'Supply_Risk_Score'])"
      ]
     },
     "execution_count": 67,
     "metadata": {},
     "output_type": "execute_result"
    }
   ],
   "source": [
    "supply_region_df_gb.index"
   ]
  },
  {
   "cell_type": "code",
   "execution_count": 69,
   "id": "44ff5726-c1c7-4559-ab40-1fedfb91e25a",
   "metadata": {},
   "outputs": [
    {
     "data": {
      "text/html": [
       "<div>\n",
       "<style scoped>\n",
       "    .dataframe tbody tr th:only-of-type {\n",
       "        vertical-align: middle;\n",
       "    }\n",
       "\n",
       "    .dataframe tbody tr th {\n",
       "        vertical-align: top;\n",
       "    }\n",
       "\n",
       "    .dataframe thead th {\n",
       "        text-align: right;\n",
       "    }\n",
       "</style>\n",
       "<table border=\"1\" class=\"dataframe\">\n",
       "  <thead>\n",
       "    <tr style=\"text-align: right;\">\n",
       "      <th></th>\n",
       "      <th></th>\n",
       "      <th>Supply_Risk_Score_Number</th>\n",
       "    </tr>\n",
       "    <tr>\n",
       "      <th>Supplier_Region</th>\n",
       "      <th>Supply_Risk_Score</th>\n",
       "      <th></th>\n",
       "    </tr>\n",
       "  </thead>\n",
       "  <tbody>\n",
       "    <tr>\n",
       "      <th rowspan=\"3\" valign=\"top\">Africa</th>\n",
       "      <th>3</th>\n",
       "      <td>11</td>\n",
       "    </tr>\n",
       "    <tr>\n",
       "      <th>4</th>\n",
       "      <td>30</td>\n",
       "    </tr>\n",
       "    <tr>\n",
       "      <th>5</th>\n",
       "      <td>42</td>\n",
       "    </tr>\n",
       "    <tr>\n",
       "      <th rowspan=\"2\" valign=\"top\">Asia</th>\n",
       "      <th>1</th>\n",
       "      <td>30</td>\n",
       "    </tr>\n",
       "    <tr>\n",
       "      <th>2</th>\n",
       "      <td>35</td>\n",
       "    </tr>\n",
       "  </tbody>\n",
       "</table>\n",
       "</div>"
      ],
      "text/plain": [
       "                                   Supply_Risk_Score_Number\n",
       "Supplier_Region Supply_Risk_Score                          \n",
       "Africa          3                                        11\n",
       "                4                                        30\n",
       "                5                                        42\n",
       "Asia            1                                        30\n",
       "                2                                        35"
      ]
     },
     "execution_count": 69,
     "metadata": {},
     "output_type": "execute_result"
    }
   ],
   "source": [
    "supply_region_df_gb = supply_region_df_gb.to_frame()\n",
    "supply_region_df_gb.head()"
   ]
  },
  {
   "cell_type": "code",
   "execution_count": 71,
   "id": "276eba59-e068-485c-b47c-acf15b5e4e07",
   "metadata": {},
   "outputs": [
    {
     "data": {
      "text/plain": [
       "MultiIndex([(       'Africa', 3),\n",
       "            (       'Africa', 4),\n",
       "            (       'Africa', 5),\n",
       "            (         'Asia', 1),\n",
       "            (         'Asia', 2),\n",
       "            (         'Asia', 3),\n",
       "            (         'Asia', 4),\n",
       "            (         'Asia', 5),\n",
       "            (       'Europe', 1),\n",
       "            (       'Europe', 2),\n",
       "            (       'Europe', 3),\n",
       "            (       'Europe', 4),\n",
       "            (       'Europe', 5),\n",
       "            (       'Global', 1),\n",
       "            (       'Global', 2),\n",
       "            (       'Global', 3),\n",
       "            ('North America', 1),\n",
       "            ('North America', 2),\n",
       "            ('North America', 3),\n",
       "            ('South America', 3),\n",
       "            ('South America', 4),\n",
       "            ('South America', 5)],\n",
       "           names=['Supplier_Region', 'Supply_Risk_Score'])"
      ]
     },
     "execution_count": 71,
     "metadata": {},
     "output_type": "execute_result"
    }
   ],
   "source": [
    "supply_region_df_gb.index"
   ]
  },
  {
   "cell_type": "code",
   "execution_count": 73,
   "id": "fb910561-e0ea-4e84-b2ec-4a9260c03933",
   "metadata": {},
   "outputs": [
    {
     "data": {
      "text/html": [
       "<div>\n",
       "<style scoped>\n",
       "    .dataframe tbody tr th:only-of-type {\n",
       "        vertical-align: middle;\n",
       "    }\n",
       "\n",
       "    .dataframe tbody tr th {\n",
       "        vertical-align: top;\n",
       "    }\n",
       "\n",
       "    .dataframe thead th {\n",
       "        text-align: right;\n",
       "    }\n",
       "</style>\n",
       "<table border=\"1\" class=\"dataframe\">\n",
       "  <thead>\n",
       "    <tr style=\"text-align: right;\">\n",
       "      <th></th>\n",
       "      <th>Supplier_Region</th>\n",
       "      <th>Supply_Risk_Score</th>\n",
       "      <th>Supply_Risk_Score_Number</th>\n",
       "    </tr>\n",
       "  </thead>\n",
       "  <tbody>\n",
       "    <tr>\n",
       "      <th>0</th>\n",
       "      <td>Africa</td>\n",
       "      <td>3</td>\n",
       "      <td>11</td>\n",
       "    </tr>\n",
       "    <tr>\n",
       "      <th>1</th>\n",
       "      <td>Africa</td>\n",
       "      <td>4</td>\n",
       "      <td>30</td>\n",
       "    </tr>\n",
       "    <tr>\n",
       "      <th>2</th>\n",
       "      <td>Africa</td>\n",
       "      <td>5</td>\n",
       "      <td>42</td>\n",
       "    </tr>\n",
       "    <tr>\n",
       "      <th>3</th>\n",
       "      <td>Asia</td>\n",
       "      <td>1</td>\n",
       "      <td>30</td>\n",
       "    </tr>\n",
       "    <tr>\n",
       "      <th>4</th>\n",
       "      <td>Asia</td>\n",
       "      <td>2</td>\n",
       "      <td>35</td>\n",
       "    </tr>\n",
       "  </tbody>\n",
       "</table>\n",
       "</div>"
      ],
      "text/plain": [
       "  Supplier_Region  Supply_Risk_Score  Supply_Risk_Score_Number\n",
       "0          Africa                  3                        11\n",
       "1          Africa                  4                        30\n",
       "2          Africa                  5                        42\n",
       "3            Asia                  1                        30\n",
       "4            Asia                  2                        35"
      ]
     },
     "execution_count": 73,
     "metadata": {},
     "output_type": "execute_result"
    }
   ],
   "source": [
    "supply_region_df_gb.reset_index(inplace=True)\n",
    "supply_region_df_gb.head()"
   ]
  },
  {
   "cell_type": "code",
   "execution_count": 75,
   "id": "05a6a86e-5121-4b43-a358-218bc5a89947",
   "metadata": {},
   "outputs": [
    {
     "name": "stdout",
     "output_type": "stream",
     "text": [
      "<class 'pandas.core.frame.DataFrame'>\n",
      "RangeIndex: 22 entries, 0 to 21\n",
      "Data columns (total 3 columns):\n",
      " #   Column                    Non-Null Count  Dtype \n",
      "---  ------                    --------------  ----- \n",
      " 0   Supplier_Region           22 non-null     object\n",
      " 1   Supply_Risk_Score         22 non-null     object\n",
      " 2   Supply_Risk_Score_Number  22 non-null     int64 \n",
      "dtypes: int64(1), object(2)\n",
      "memory usage: 660.0+ bytes\n"
     ]
    }
   ],
   "source": [
    "supply_region_df_gb['Supply_Risk_Score'] = supply_region_df_gb['Supply_Risk_Score'].astype('object')\n",
    "supply_region_df_gb.info()"
   ]
  },
  {
   "cell_type": "code",
   "execution_count": 77,
   "id": "e7677c3b-ec71-410c-8dd6-a9388dc3faf1",
   "metadata": {},
   "outputs": [
    {
     "data": {
      "text/plain": [
       "Index(['Africa - 3', 'Africa - 4', 'Africa - 5', 'Asia - 1', 'Asia - 2',\n",
       "       'Asia - 3', 'Asia - 4', 'Asia - 5', 'Europe - 1', 'Europe - 2',\n",
       "       'Europe - 3', 'Europe - 4', 'Europe - 5', 'Global - 1', 'Global - 2',\n",
       "       'Global - 3', 'North America - 1', 'North America - 2',\n",
       "       'North America - 3', 'South America - 3', 'South America - 4',\n",
       "       'South America - 5'],\n",
       "      dtype='object', name='Combine_Index')"
      ]
     },
     "execution_count": 77,
     "metadata": {},
     "output_type": "execute_result"
    }
   ],
   "source": [
    "supply_region_df_gb['Combine_Index'] = supply_region_df_gb['Supplier_Region'].astype(str) + ' - ' + supply_region_df_gb['Supply_Risk_Score'].astype(str)\n",
    "\n",
    "supply_region_df_gb.set_index('Combine_Index',inplace=True)\n",
    "\n",
    "supply_region_df_gb.index"
   ]
  },
  {
   "cell_type": "code",
   "execution_count": 79,
   "id": "4f244890-a6a4-46bc-880e-11e3d2d457e6",
   "metadata": {},
   "outputs": [
    {
     "data": {
      "image/png": "[encoded data removed]",
      "text/plain": [
       "<Figure size 640x480 with 1 Axes>"
      ]
     },
     "metadata": {},
     "output_type": "display_data"
    }
   ],
   "source": [
    "ax = sns.barplot(\n",
    "                x=supply_region_df_gb.index\n",
    "                ,y=supply_region_df_gb['Supply_Risk_Score_Number']\n",
    "                )\n",
    "\n",
    "plt.title('Region Risk Score Number')\n",
    "plt.xlabel('Region Risk Score')\n",
    "plt.ylabel('Number of Risk Score')\n",
    "\n",
    "plt.xticks(rotation=90)\n",
    "\n",
    "plt.show()"
   ]
  },
  {
   "cell_type": "code",
   "execution_count": 81,
   "id": "39b0a7ca-1b02-4b6e-a04f-20992811375c",
   "metadata": {},
   "outputs": [
    {
     "data": {
      "text/html": [
       "<div>\n",
       "<style scoped>\n",
       "    .dataframe tbody tr th:only-of-type {\n",
       "        vertical-align: middle;\n",
       "    }\n",
       "\n",
       "    .dataframe tbody tr th {\n",
       "        vertical-align: top;\n",
       "    }\n",
       "\n",
       "    .dataframe thead th {\n",
       "        text-align: right;\n",
       "    }\n",
       "</style>\n",
       "<table border=\"1\" class=\"dataframe\">\n",
       "  <thead>\n",
       "    <tr style=\"text-align: right;\">\n",
       "      <th></th>\n",
       "      <th>Supplier_Region</th>\n",
       "      <th>Supply_Risk_Score</th>\n",
       "      <th>Supply_Risk_Score_Number</th>\n",
       "    </tr>\n",
       "    <tr>\n",
       "      <th>Combine_Index</th>\n",
       "      <th></th>\n",
       "      <th></th>\n",
       "      <th></th>\n",
       "    </tr>\n",
       "  </thead>\n",
       "  <tbody>\n",
       "    <tr>\n",
       "      <th>Africa - 3</th>\n",
       "      <td>Africa</td>\n",
       "      <td>3</td>\n",
       "      <td>11</td>\n",
       "    </tr>\n",
       "    <tr>\n",
       "      <th>Africa - 4</th>\n",
       "      <td>Africa</td>\n",
       "      <td>4</td>\n",
       "      <td>30</td>\n",
       "    </tr>\n",
       "    <tr>\n",
       "      <th>Africa - 5</th>\n",
       "      <td>Africa</td>\n",
       "      <td>5</td>\n",
       "      <td>42</td>\n",
       "    </tr>\n",
       "    <tr>\n",
       "      <th>Asia - 1</th>\n",
       "      <td>Asia</td>\n",
       "      <td>1</td>\n",
       "      <td>30</td>\n",
       "    </tr>\n",
       "    <tr>\n",
       "      <th>Asia - 2</th>\n",
       "      <td>Asia</td>\n",
       "      <td>2</td>\n",
       "      <td>35</td>\n",
       "    </tr>\n",
       "  </tbody>\n",
       "</table>\n",
       "</div>"
      ],
      "text/plain": [
       "              Supplier_Region Supply_Risk_Score  Supply_Risk_Score_Number\n",
       "Combine_Index                                                            \n",
       "Africa - 3             Africa                 3                        11\n",
       "Africa - 4             Africa                 4                        30\n",
       "Africa - 5             Africa                 5                        42\n",
       "Asia - 1                 Asia                 1                        30\n",
       "Asia - 2                 Asia                 2                        35"
      ]
     },
     "execution_count": 81,
     "metadata": {},
     "output_type": "execute_result"
    }
   ],
   "source": [
    "supply_region_df_gb.head()"
   ]
  },
  {
   "cell_type": "code",
   "execution_count": 83,
   "id": "762b2eb1-3eda-41c8-bcbe-f844a51106f3",
   "metadata": {},
   "outputs": [
    {
     "data": {
      "text/html": [
       "<div>\n",
       "<style scoped>\n",
       "    .dataframe tbody tr th:only-of-type {\n",
       "        vertical-align: middle;\n",
       "    }\n",
       "\n",
       "    .dataframe tbody tr th {\n",
       "        vertical-align: top;\n",
       "    }\n",
       "\n",
       "    .dataframe thead th {\n",
       "        text-align: right;\n",
       "    }\n",
       "</style>\n",
       "<table border=\"1\" class=\"dataframe\">\n",
       "  <thead>\n",
       "    <tr style=\"text-align: right;\">\n",
       "      <th></th>\n",
       "      <th>Supplier_Region</th>\n",
       "      <th>Supply_Risk_Score</th>\n",
       "    </tr>\n",
       "  </thead>\n",
       "  <tbody>\n",
       "    <tr>\n",
       "      <th>0</th>\n",
       "      <td>South America</td>\n",
       "      <td>5</td>\n",
       "    </tr>\n",
       "    <tr>\n",
       "      <th>1</th>\n",
       "      <td>South America</td>\n",
       "      <td>5</td>\n",
       "    </tr>\n",
       "    <tr>\n",
       "      <th>2</th>\n",
       "      <td>Asia</td>\n",
       "      <td>4</td>\n",
       "    </tr>\n",
       "    <tr>\n",
       "      <th>3</th>\n",
       "      <td>South America</td>\n",
       "      <td>5</td>\n",
       "    </tr>\n",
       "    <tr>\n",
       "      <th>4</th>\n",
       "      <td>Asia</td>\n",
       "      <td>4</td>\n",
       "    </tr>\n",
       "  </tbody>\n",
       "</table>\n",
       "</div>"
      ],
      "text/plain": [
       "  Supplier_Region  Supply_Risk_Score\n",
       "0   South America                  5\n",
       "1   South America                  5\n",
       "2            Asia                  4\n",
       "3   South America                  5\n",
       "4            Asia                  4"
      ]
     },
     "execution_count": 83,
     "metadata": {},
     "output_type": "execute_result"
    }
   ],
   "source": [
    "supply_region_df.head()"
   ]
  },
  {
   "cell_type": "code",
   "execution_count": 85,
   "id": "1974c7db-e3da-4f74-889d-91fa372a1022",
   "metadata": {},
   "outputs": [],
   "source": [
    "supply_region_df_gb_avg = supply_region_df.groupby('Supplier_Region')['Supply_Risk_Score'].mean()"
   ]
  },
  {
   "cell_type": "code",
   "execution_count": 87,
   "id": "53a18698-71ee-4b4e-b266-f9596d3bd2de",
   "metadata": {},
   "outputs": [
    {
     "data": {
      "text/plain": [
       "Supplier_Region\n",
       "Africa           4.373494\n",
       "Asia             3.535316\n",
       "Europe           3.429204\n",
       "Global           1.596000\n",
       "North America    1.697917\n",
       "Name: Supply_Risk_Score, dtype: float64"
      ]
     },
     "execution_count": 87,
     "metadata": {},
     "output_type": "execute_result"
    }
   ],
   "source": [
    "supply_region_df_gb_avg.head()"
   ]
  },
  {
   "cell_type": "code",
   "execution_count": 89,
   "id": "2bcd4144-8acb-40c1-a001-753c8dd90d4e",
   "metadata": {},
   "outputs": [
    {
     "data": {
      "image/png": "[encoded data removed]",
      "text/plain": [
       "<Figure size 640x480 with 1 Axes>"
      ]
     },
     "metadata": {},
     "output_type": "display_data"
    },
    {
     "data": {
      "image/png": "[encoded data removed]",
      "text/plain": [
       "<Figure size 640x480 with 1 Axes>"
      ]
     },
     "metadata": {},
     "output_type": "display_data"
    }
   ],
   "source": [
    "ax = sns.barplot(\n",
    "                x=supply_region_df_gb.index\n",
    "                ,y=supply_region_df_gb['Supply_Risk_Score_Number']\n",
    "                )\n",
    "\n",
    "plt.title('Region Risk Score Number')\n",
    "plt.xlabel('Region Risk Score')\n",
    "plt.ylabel('Number of Risk Score')\n",
    "\n",
    "plt.xticks(rotation=90)\n",
    "\n",
    "plt.show()\n",
    "\n",
    "ax2 = sns.barplot(\n",
    "                x = supply_region_df_gb_avg.index\n",
    "                ,y = supply_region_df_gb_avg.values\n",
    "                )\n",
    "\n",
    "plt.title('Region Risk Score AVG')\n",
    "plt.xlabel('Region AVG Risk Score')\n",
    "plt.ylabel('Number of Risk Score')\n",
    "\n",
    "plt.xticks(rotation=90)\n",
    "\n",
    "plt.show()"
   ]
  },
  {
   "cell_type": "markdown",
   "id": "cab7be61-f7d5-4096-9f88-a1bb322abd1f",
   "metadata": {},
   "source": [
    "### So I am so confused...\n",
    "#### Regions with the most products Region Risk Score aren't the same which have the highest Average Region Risk Score\n",
    "#### So conclusion is Africa and Sauth America are regions where you have the highest probability that delivery risk can be high\n",
    "#### but Asia and Europe ar regions where we have the most products with high delivery risk"
   ]
  },
  {
   "cell_type": "markdown",
   "id": "39c8710c-74d3-43af-8b48-2e890ecfb665",
   "metadata": {},
   "source": [
    "## Which region have the most Profit Impact for the company? "
   ]
  },
  {
   "cell_type": "code",
   "execution_count": 30,
   "id": "841a056c-ece8-4981-ad73-dacf3e5e4c7b",
   "metadata": {},
   "outputs": [
    {
     "data": {
      "text/html": [
       "<div>\n",
       "<style scoped>\n",
       "    .dataframe tbody tr th:only-of-type {\n",
       "        vertical-align: middle;\n",
       "    }\n",
       "\n",
       "    .dataframe tbody tr th {\n",
       "        vertical-align: top;\n",
       "    }\n",
       "\n",
       "    .dataframe thead th {\n",
       "        text-align: right;\n",
       "    }\n",
       "</style>\n",
       "<table border=\"1\" class=\"dataframe\">\n",
       "  <thead>\n",
       "    <tr style=\"text-align: right;\">\n",
       "      <th></th>\n",
       "      <th>Supplier_Region</th>\n",
       "      <th>Profit_Impact_Score</th>\n",
       "    </tr>\n",
       "  </thead>\n",
       "  <tbody>\n",
       "    <tr>\n",
       "      <th>0</th>\n",
       "      <td>South America</td>\n",
       "      <td>5</td>\n",
       "    </tr>\n",
       "    <tr>\n",
       "      <th>1</th>\n",
       "      <td>South America</td>\n",
       "      <td>4</td>\n",
       "    </tr>\n",
       "    <tr>\n",
       "      <th>2</th>\n",
       "      <td>Asia</td>\n",
       "      <td>5</td>\n",
       "    </tr>\n",
       "    <tr>\n",
       "      <th>3</th>\n",
       "      <td>South America</td>\n",
       "      <td>5</td>\n",
       "    </tr>\n",
       "    <tr>\n",
       "      <th>4</th>\n",
       "      <td>Asia</td>\n",
       "      <td>4</td>\n",
       "    </tr>\n",
       "  </tbody>\n",
       "</table>\n",
       "</div>"
      ],
      "text/plain": [
       "  Supplier_Region  Profit_Impact_Score\n",
       "0   South America                    5\n",
       "1   South America                    4\n",
       "2            Asia                    5\n",
       "3   South America                    5\n",
       "4            Asia                    4"
      ]
     },
     "execution_count": 30,
     "metadata": {},
     "output_type": "execute_result"
    }
   ],
   "source": [
    "profit_impact_df = matrix_df[['Supplier_Region','Profit_Impact_Score']] \n",
    "profit_impact_df.head()"
   ]
  },
  {
   "cell_type": "code",
   "execution_count": 59,
   "id": "ea015927-a81f-49ff-a608-c683931ff259",
   "metadata": {},
   "outputs": [
    {
     "data": {
      "text/plain": [
       "Supplier_Region  Profit_Impact_Score\n",
       "Africa           3                      16\n",
       "                 4                      27\n",
       "                 5                      40\n",
       "Asia             1                      42\n",
       "                 2                      37\n",
       "Name: Region_Profit_Impact_Number, dtype: int64"
      ]
     },
     "execution_count": 59,
     "metadata": {},
     "output_type": "execute_result"
    }
   ],
   "source": [
    "profit_impact_df_gb = profit_impact_df.groupby(by=['Supplier_Region','Profit_Impact_Score'])['Profit_Impact_Score'].count()\n",
    "profit_impact_df_gb.name = 'Region_Profit_Impact_Number'\n",
    "profit_impact_df_gb.head()"
   ]
  },
  {
   "cell_type": "code",
   "execution_count": 91,
   "id": "a226ee88-c4b9-499b-8899-6b51f79c709e",
   "metadata": {},
   "outputs": [
    {
     "data": {
      "text/html": [
       "<div>\n",
       "<style scoped>\n",
       "    .dataframe tbody tr th:only-of-type {\n",
       "        vertical-align: middle;\n",
       "    }\n",
       "\n",
       "    .dataframe tbody tr th {\n",
       "        vertical-align: top;\n",
       "    }\n",
       "\n",
       "    .dataframe thead th {\n",
       "        text-align: right;\n",
       "    }\n",
       "</style>\n",
       "<table border=\"1\" class=\"dataframe\">\n",
       "  <thead>\n",
       "    <tr style=\"text-align: right;\">\n",
       "      <th></th>\n",
       "      <th></th>\n",
       "      <th>Region_Profit_Impact_Number</th>\n",
       "    </tr>\n",
       "    <tr>\n",
       "      <th>Supplier_Region</th>\n",
       "      <th>Profit_Impact_Score</th>\n",
       "      <th></th>\n",
       "    </tr>\n",
       "  </thead>\n",
       "  <tbody>\n",
       "    <tr>\n",
       "      <th rowspan=\"3\" valign=\"top\">Africa</th>\n",
       "      <th>3</th>\n",
       "      <td>16</td>\n",
       "    </tr>\n",
       "    <tr>\n",
       "      <th>4</th>\n",
       "      <td>27</td>\n",
       "    </tr>\n",
       "    <tr>\n",
       "      <th>5</th>\n",
       "      <td>40</td>\n",
       "    </tr>\n",
       "    <tr>\n",
       "      <th rowspan=\"2\" valign=\"top\">Asia</th>\n",
       "      <th>1</th>\n",
       "      <td>42</td>\n",
       "    </tr>\n",
       "    <tr>\n",
       "      <th>2</th>\n",
       "      <td>37</td>\n",
       "    </tr>\n",
       "  </tbody>\n",
       "</table>\n",
       "</div>"
      ],
      "text/plain": [
       "                                     Region_Profit_Impact_Number\n",
       "Supplier_Region Profit_Impact_Score                             \n",
       "Africa          3                                             16\n",
       "                4                                             27\n",
       "                5                                             40\n",
       "Asia            1                                             42\n",
       "                2                                             37"
      ]
     },
     "execution_count": 91,
     "metadata": {},
     "output_type": "execute_result"
    }
   ],
   "source": [
    "profit_impact_df_gb = profit_impact_df_gb.to_frame()\n",
    "profit_impact_df_gb.head()"
   ]
  },
  {
   "cell_type": "code",
   "execution_count": 93,
   "id": "38a64a15-c4d7-43b2-82b1-29bff088839c",
   "metadata": {},
   "outputs": [
    {
     "data": {
      "text/html": [
       "<div>\n",
       "<style scoped>\n",
       "    .dataframe tbody tr th:only-of-type {\n",
       "        vertical-align: middle;\n",
       "    }\n",
       "\n",
       "    .dataframe tbody tr th {\n",
       "        vertical-align: top;\n",
       "    }\n",
       "\n",
       "    .dataframe thead th {\n",
       "        text-align: right;\n",
       "    }\n",
       "</style>\n",
       "<table border=\"1\" class=\"dataframe\">\n",
       "  <thead>\n",
       "    <tr style=\"text-align: right;\">\n",
       "      <th></th>\n",
       "      <th>Supplier_Region</th>\n",
       "      <th>Profit_Impact_Score</th>\n",
       "      <th>Region_Profit_Impact_Number</th>\n",
       "    </tr>\n",
       "  </thead>\n",
       "  <tbody>\n",
       "    <tr>\n",
       "      <th>0</th>\n",
       "      <td>Africa</td>\n",
       "      <td>3</td>\n",
       "      <td>16</td>\n",
       "    </tr>\n",
       "    <tr>\n",
       "      <th>1</th>\n",
       "      <td>Africa</td>\n",
       "      <td>4</td>\n",
       "      <td>27</td>\n",
       "    </tr>\n",
       "    <tr>\n",
       "      <th>2</th>\n",
       "      <td>Africa</td>\n",
       "      <td>5</td>\n",
       "      <td>40</td>\n",
       "    </tr>\n",
       "    <tr>\n",
       "      <th>3</th>\n",
       "      <td>Asia</td>\n",
       "      <td>1</td>\n",
       "      <td>42</td>\n",
       "    </tr>\n",
       "    <tr>\n",
       "      <th>4</th>\n",
       "      <td>Asia</td>\n",
       "      <td>2</td>\n",
       "      <td>37</td>\n",
       "    </tr>\n",
       "  </tbody>\n",
       "</table>\n",
       "</div>"
      ],
      "text/plain": [
       "  Supplier_Region  Profit_Impact_Score  Region_Profit_Impact_Number\n",
       "0          Africa                    3                           16\n",
       "1          Africa                    4                           27\n",
       "2          Africa                    5                           40\n",
       "3            Asia                    1                           42\n",
       "4            Asia                    2                           37"
      ]
     },
     "execution_count": 93,
     "metadata": {},
     "output_type": "execute_result"
    }
   ],
   "source": [
    "profit_impact_df_gb.reset_index(inplace=True)\n",
    "profit_impact_df_gb.head()"
   ]
  },
  {
   "cell_type": "code",
   "execution_count": 95,
   "id": "e94cf4e2-39f6-4be8-ab21-6295f2763794",
   "metadata": {},
   "outputs": [
    {
     "name": "stdout",
     "output_type": "stream",
     "text": [
      "<class 'pandas.core.frame.DataFrame'>\n",
      "RangeIndex: 22 entries, 0 to 21\n",
      "Data columns (total 3 columns):\n",
      " #   Column                       Non-Null Count  Dtype \n",
      "---  ------                       --------------  ----- \n",
      " 0   Supplier_Region              22 non-null     object\n",
      " 1   Profit_Impact_Score          22 non-null     object\n",
      " 2   Region_Profit_Impact_Number  22 non-null     int64 \n",
      "dtypes: int64(1), object(2)\n",
      "memory usage: 660.0+ bytes\n"
     ]
    }
   ],
   "source": [
    "profit_impact_df_gb['Profit_Impact_Score'] = profit_impact_df_gb['Profit_Impact_Score'].astype('object')\n",
    "profit_impact_df_gb.info()"
   ]
  },
  {
   "cell_type": "code",
   "execution_count": 97,
   "id": "b2033508-f0cc-43e3-a7e9-1d5e8547bdb5",
   "metadata": {},
   "outputs": [
    {
     "data": {
      "text/plain": [
       "Index(['Africa - 3', 'Africa - 4', 'Africa - 5', 'Asia - 1', 'Asia - 2',\n",
       "       'Asia - 3', 'Asia - 4', 'Asia - 5', 'Europe - 1', 'Europe - 2',\n",
       "       'Europe - 3', 'Europe - 4', 'Europe - 5', 'Global - 1', 'Global - 2',\n",
       "       'Global - 3', 'North America - 3', 'North America - 4',\n",
       "       'North America - 5', 'South America - 3', 'South America - 4',\n",
       "       'South America - 5'],\n",
       "      dtype='object', name='Combine_Index')"
      ]
     },
     "execution_count": 97,
     "metadata": {},
     "output_type": "execute_result"
    }
   ],
   "source": [
    "profit_impact_df_gb['Combine_Index'] = profit_impact_df_gb['Supplier_Region'].astype(str) + ' - ' + profit_impact_df_gb['Profit_Impact_Score'].astype(str)\n",
    "\n",
    "profit_impact_df_gb.set_index('Combine_Index',inplace=True)\n",
    "\n",
    "profit_impact_df_gb.index"
   ]
  },
  {
   "cell_type": "code",
   "execution_count": 99,
   "id": "c305971b-5ad9-4670-b49e-9405ca3c9962",
   "metadata": {},
   "outputs": [
    {
     "data": {
      "image/png": "[encoded data removed]",
      "text/plain": [
       "<Figure size 640x480 with 1 Axes>"
      ]
     },
     "metadata": {},
     "output_type": "display_data"
    }
   ],
   "source": [
    "ax = sns.barplot(\n",
    "                x=profit_impact_df_gb.index\n",
    "                ,y=profit_impact_df_gb['Region_Profit_Impact_Number']\n",
    "                )\n",
    "\n",
    "plt.title('Region Profit Impact Number')\n",
    "plt.xlabel('Region')\n",
    "plt.ylabel('Profit Impact')\n",
    "\n",
    "plt.xticks(rotation=90)\n",
    "\n",
    "plt.show()"
   ]
  },
  {
   "cell_type": "code",
   "execution_count": 103,
   "id": "935dc6c7-fbcf-4e2d-b63f-923885a1d042",
   "metadata": {},
   "outputs": [
    {
     "data": {
      "text/plain": [
       "Supplier_Region\n",
       "Africa           4.289157\n",
       "Asia             3.401487\n",
       "Europe           2.557522\n",
       "Global           1.676000\n",
       "North America    4.479167\n",
       "Name: Profit_Impact_Score, dtype: float64"
      ]
     },
     "execution_count": 103,
     "metadata": {},
     "output_type": "execute_result"
    }
   ],
   "source": [
    "profit_impact_df_gb_avg = profit_impact_df.groupby('Supplier_Region')['Profit_Impact_Score'].mean()\n",
    "profit_impact_df_gb_avg.head()"
   ]
  },
  {
   "cell_type": "code",
   "execution_count": 107,
   "id": "ed0b9430-57df-4095-a223-94a4b3806069",
   "metadata": {},
   "outputs": [
    {
     "data": {
      "image/png": "[encoded data removed]",
      "text/plain": [
       "<Figure size 640x480 with 1 Axes>"
      ]
     },
     "metadata": {},
     "output_type": "display_data"
    },
    {
     "data": {
      "image/png": "[encoded data removed]",
      "text/plain": [
       "<Figure size 640x480 with 1 Axes>"
      ]
     },
     "metadata": {},
     "output_type": "display_data"
    }
   ],
   "source": [
    "ax = sns.barplot(\n",
    "                x=profit_impact_df_gb.index\n",
    "                ,y=profit_impact_df_gb['Region_Profit_Impact_Number']\n",
    "                )\n",
    "\n",
    "plt.title('Region Profit Impact Number')\n",
    "plt.xlabel('Region')\n",
    "plt.ylabel('Profit Impact')\n",
    "\n",
    "plt.xticks(rotation=90)\n",
    "\n",
    "plt.show()\n",
    "\n",
    "ax2 = sns.barplot(\n",
    "                x = profit_impact_df_gb_avg.index\n",
    "                ,y = profit_impact_df_gb_avg.values\n",
    "                )\n",
    "\n",
    "plt.title('Region Profit Impact AVG')\n",
    "plt.xlabel('Region')\n",
    "plt.ylabel('Profit Impact')\n",
    "\n",
    "plt.xticks(rotation=90)\n",
    "\n",
    "plt.show()"
   ]
  },
  {
   "cell_type": "markdown",
   "id": "127ddeb0-d9e5-40ef-9c7b-576f1e55dd81",
   "metadata": {},
   "source": [
    "#### So Region with the most product with highest profit impact is Asia\n",
    "#### but some regions have higher average profit impact like North and South America and Africa"
   ]
  },
  {
   "cell_type": "markdown",
   "id": "5e00deed-9f93-4ddf-b508-26c59b4b5776",
   "metadata": {},
   "source": [
    "### Conclusion is that Asia have the most product with high delivery risk score and profit impact"
   ]
  },
  {
   "cell_type": "code",
   "execution_count": null,
   "id": "61e04c15-9901-493b-8bef-4b8c397c9fa3",
   "metadata": {},
   "outputs": [],
   "source": []
  }
 ],
 "metadata": {
  "kernelspec": {
   "display_name": "Python [conda env:base] *",
   "language": "python",
   "name": "conda-base-py"
  },
  "language_info": {
   "codemirror_mode": {
    "name": "ipython",
    "version": 3
   },
   "file_extension": ".py",
   "mimetype": "text/x-python",
   "name": "python",
   "nbconvert_exporter": "python",
   "pygments_lexer": "ipython3",
   "version": "3.12.7"
  }
 },
 "nbformat": 4,
 "nbformat_minor": 5
}
