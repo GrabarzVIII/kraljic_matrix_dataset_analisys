{
 "cells": [
  {
   "cell_type": "markdown",
   "id": "c6efb5b5-529d-4b75-b454-a579fc805470",
   "metadata": {},
   "source": [
    "# Kraljic Matrix analisys"
   ]
  },
  {
   "cell_type": "code",
   "execution_count": 1,
   "id": "9f169825-5a3f-47c0-8356-a0dcb15a3eda",
   "metadata": {},
   "outputs": [],
   "source": [
    "import pandas as pd \n",
    "import numpy as np\n",
    "import matplotlib.pyplot as plt\n",
    "import seaborn as sns\n",
    "import kagglehub"
   ]
  },
  {
   "cell_type": "markdown",
   "id": "b52cf4ed-3d90-4549-b2db-f6983199482c",
   "metadata": {},
   "source": [
    "### Importing well known libraries\n",
    "#### Now I probably download datasets and I will look at it"
   ]
  },
  {
   "cell_type": "code",
   "execution_count": 4,
   "id": "f8f96ded-c93a-4120-bbfa-da5b53825ae6",
   "metadata": {},
   "outputs": [
    {
     "name": "stdout",
     "output_type": "stream",
     "text": [
      "Downloading from https://www.kaggle.com/api/v1/datasets/download/shahriarkabir/procurement-strategy-dataset-for-kraljic-matrix?dataset_version_number=1...\n"
     ]
    },
    {
     "name": "stderr",
     "output_type": "stream",
     "text": [
      "100%|██████████| 13.5k/13.5k [00:00<00:00, 13.4MB/s]"
     ]
    },
    {
     "name": "stdout",
     "output_type": "stream",
     "text": [
      "Extracting files...\n"
     ]
    },
    {
     "name": "stderr",
     "output_type": "stream",
     "text": [
      "\n"
     ]
    },
    {
     "data": {
      "text/html": [
       "<div>\n",
       "<style scoped>\n",
       "    .dataframe tbody tr th:only-of-type {\n",
       "        vertical-align: middle;\n",
       "    }\n",
       "\n",
       "    .dataframe tbody tr th {\n",
       "        vertical-align: top;\n",
       "    }\n",
       "\n",
       "    .dataframe thead th {\n",
       "        text-align: right;\n",
       "    }\n",
       "</style>\n",
       "<table border=\"1\" class=\"dataframe\">\n",
       "  <thead>\n",
       "    <tr style=\"text-align: right;\">\n",
       "      <th></th>\n",
       "      <th>Product_ID</th>\n",
       "      <th>Product_Name</th>\n",
       "      <th>Supplier_Region</th>\n",
       "      <th>Lead_Time_Days</th>\n",
       "      <th>Order_Volume_Units</th>\n",
       "      <th>Cost_per_Unit</th>\n",
       "      <th>Supply_Risk_Score</th>\n",
       "      <th>Profit_Impact_Score</th>\n",
       "      <th>Environmental_Impact</th>\n",
       "      <th>Single_Source_Risk</th>\n",
       "      <th>Kraljic_Category</th>\n",
       "    </tr>\n",
       "  </thead>\n",
       "  <tbody>\n",
       "    <tr>\n",
       "      <th>0</th>\n",
       "      <td>P001</td>\n",
       "      <td>Semiconductors</td>\n",
       "      <td>South America</td>\n",
       "      <td>81</td>\n",
       "      <td>171</td>\n",
       "      <td>255.03</td>\n",
       "      <td>5</td>\n",
       "      <td>5</td>\n",
       "      <td>4</td>\n",
       "      <td>Yes</td>\n",
       "      <td>Strategic</td>\n",
       "    </tr>\n",
       "    <tr>\n",
       "      <th>1</th>\n",
       "      <td>P002</td>\n",
       "      <td>Semiconductors</td>\n",
       "      <td>South America</td>\n",
       "      <td>8</td>\n",
       "      <td>763</td>\n",
       "      <td>380.33</td>\n",
       "      <td>5</td>\n",
       "      <td>4</td>\n",
       "      <td>4</td>\n",
       "      <td>Yes</td>\n",
       "      <td>Strategic</td>\n",
       "    </tr>\n",
       "    <tr>\n",
       "      <th>2</th>\n",
       "      <td>P003</td>\n",
       "      <td>Pharma APIs</td>\n",
       "      <td>Asia</td>\n",
       "      <td>65</td>\n",
       "      <td>413</td>\n",
       "      <td>385.24</td>\n",
       "      <td>4</td>\n",
       "      <td>5</td>\n",
       "      <td>5</td>\n",
       "      <td>Yes</td>\n",
       "      <td>Strategic</td>\n",
       "    </tr>\n",
       "    <tr>\n",
       "      <th>3</th>\n",
       "      <td>P004</td>\n",
       "      <td>Semiconductors</td>\n",
       "      <td>South America</td>\n",
       "      <td>70</td>\n",
       "      <td>882</td>\n",
       "      <td>287.64</td>\n",
       "      <td>5</td>\n",
       "      <td>5</td>\n",
       "      <td>5</td>\n",
       "      <td>Yes</td>\n",
       "      <td>Strategic</td>\n",
       "    </tr>\n",
       "    <tr>\n",
       "      <th>4</th>\n",
       "      <td>P005</td>\n",
       "      <td>Lithium Batteries</td>\n",
       "      <td>Asia</td>\n",
       "      <td>15</td>\n",
       "      <td>120</td>\n",
       "      <td>382.26</td>\n",
       "      <td>4</td>\n",
       "      <td>4</td>\n",
       "      <td>4</td>\n",
       "      <td>Yes</td>\n",
       "      <td>Strategic</td>\n",
       "    </tr>\n",
       "  </tbody>\n",
       "</table>\n",
       "</div>"
      ],
      "text/plain": [
       "  Product_ID       Product_Name Supplier_Region  Lead_Time_Days  \\\n",
       "0       P001     Semiconductors   South America              81   \n",
       "1       P002     Semiconductors   South America               8   \n",
       "2       P003        Pharma APIs            Asia              65   \n",
       "3       P004     Semiconductors   South America              70   \n",
       "4       P005  Lithium Batteries            Asia              15   \n",
       "\n",
       "   Order_Volume_Units  Cost_per_Unit  Supply_Risk_Score  Profit_Impact_Score  \\\n",
       "0                 171         255.03                  5                    5   \n",
       "1                 763         380.33                  5                    4   \n",
       "2                 413         385.24                  4                    5   \n",
       "3                 882         287.64                  5                    5   \n",
       "4                 120         382.26                  4                    4   \n",
       "\n",
       "   Environmental_Impact Single_Source_Risk Kraljic_Category  \n",
       "0                     4                Yes        Strategic  \n",
       "1                     4                Yes        Strategic  \n",
       "2                     5                Yes        Strategic  \n",
       "3                     5                Yes        Strategic  \n",
       "4                     4                Yes        Strategic  "
      ]
     },
     "execution_count": 4,
     "metadata": {},
     "output_type": "execute_result"
    }
   ],
   "source": [
    "path = kagglehub.dataset_download(\"shahriarkabir/procurement-strategy-dataset-for-kraljic-matrix\")\n",
    "path = path + r'/realistic_kraljic_dataset.csv' \n",
    "matrix_df = pd.read_csv(path)\n",
    "matrix_df.head()"
   ]
  },
  {
   "cell_type": "code",
   "execution_count": 8,
   "id": "80f3f7d3-5346-4f75-8487-543404e5c47f",
   "metadata": {},
   "outputs": [
    {
     "name": "stdout",
     "output_type": "stream",
     "text": [
      "<class 'pandas.core.frame.DataFrame'>\n",
      "RangeIndex: 1000 entries, 0 to 999\n",
      "Data columns (total 11 columns):\n",
      " #   Column                Non-Null Count  Dtype  \n",
      "---  ------                --------------  -----  \n",
      " 0   Product_ID            1000 non-null   object \n",
      " 1   Product_Name          1000 non-null   object \n",
      " 2   Supplier_Region       1000 non-null   object \n",
      " 3   Lead_Time_Days        1000 non-null   int64  \n",
      " 4   Order_Volume_Units    1000 non-null   int64  \n",
      " 5   Cost_per_Unit         1000 non-null   float64\n",
      " 6   Supply_Risk_Score     1000 non-null   int64  \n",
      " 7   Profit_Impact_Score   1000 non-null   int64  \n",
      " 8   Environmental_Impact  1000 non-null   int64  \n",
      " 9   Single_Source_Risk    1000 non-null   object \n",
      " 10  Kraljic_Category      1000 non-null   object \n",
      "dtypes: float64(1), int64(5), object(5)\n",
      "memory usage: 86.1+ KB\n"
     ]
    }
   ],
   "source": [
    "matrix_df.info()"
   ]
  },
  {
   "cell_type": "code",
   "execution_count": 22,
   "id": "f6d25194-fb4b-4cae-aaa2-884252ee3816",
   "metadata": {},
   "outputs": [
    {
     "data": {
      "text/plain": [
       "False"
      ]
     },
     "execution_count": 22,
     "metadata": {},
     "output_type": "execute_result"
    }
   ],
   "source": [
    "matrix_df.isnull().values.any()"
   ]
  },
  {
   "cell_type": "markdown",
   "id": "c4b32ca8-178f-4dc1-9fa2-bc46fd0c91a3",
   "metadata": {},
   "source": [
    "### So data looks good, no NaN value or any strange dtype in columns\n",
    "\n",
    "### Ok I think that good idea is showing Kraljic Matrix"
   ]
  },
  {
   "cell_type": "code",
   "execution_count": 142,
   "id": "2e8cfe4e-eff5-4a7a-9054-a25d502c208a",
   "metadata": {},
   "outputs": [
    {
     "data": {
      "text/plain": [
       "Kraljic_Category\n",
       "Strategic       250\n",
       "Bottleneck      250\n",
       "Leverage        250\n",
       "Non-Critical    250\n",
       "Name: count, dtype: int64"
      ]
     },
     "execution_count": 142,
     "metadata": {},
     "output_type": "execute_result"
    }
   ],
   "source": [
    "matrix_df['Kraljic_Category'].value_counts()"
   ]
  },
  {
   "cell_type": "code",
   "execution_count": 186,
   "id": "4455c7fb-7b0c-4461-9f6b-65c12cc74edd",
   "metadata": {},
   "outputs": [
    {
     "data": {
      "image/png": "[encoded data removed]",
      "text/plain": [
       "<Figure size 600x600 with 3 Axes>"
      ]
     },
     "metadata": {},
     "output_type": "display_data"
    }
   ],
   "source": [
    "sns.set_style(\"whitegrid\")\n",
    "\n",
    "\n",
    "ax = sns.jointplot(\n",
    "                    data = matrix_df\n",
    "                    ,x='Profit_Impact_Score'\n",
    "                    ,y='Supply_Risk_Score'\n",
    "                    ,hue='Kraljic_Category'\n",
    "                    ,kind=\"hist\"\n",
    "                    ,palette='Set2'\n",
    "                    )\n",
    "\n",
    "sns.move_legend(ax.ax_joint, loc = 'lower center', bbox_to_anchor=(1.4, 0.1))\n",
    "\n",
    "plt.title('Kraljic Matrix',y=1.2,fontsize = 16)\n",
    "plt.xlabel('Profit Impact Score')\n",
    "plt.ylabel('Supply Risk Score')\n",
    "\n",
    "plt.axhline(3,color='black',linestyle='--')\n",
    "plt.axvline(3,color='black',linestyle='--')\n",
    "\n",
    "plt.show()"
   ]
  },
  {
   "cell_type": "code",
   "execution_count": null,
   "id": "c209db3e-d6d6-409a-b3cc-f93833ac3be0",
   "metadata": {},
   "outputs": [],
   "source": []
  }
 ],
 "metadata": {
  "kernelspec": {
   "display_name": "Python [conda env:base] *",
   "language": "python",
   "name": "conda-base-py"
  },
  "language_info": {
   "codemirror_mode": {
    "name": "ipython",
    "version": 3
   },
   "file_extension": ".py",
   "mimetype": "text/x-python",
   "name": "python",
   "nbconvert_exporter": "python",
   "pygments_lexer": "ipython3",
   "version": "3.12.7"
  }
 },
 "nbformat": 4,
 "nbformat_minor": 5
}
